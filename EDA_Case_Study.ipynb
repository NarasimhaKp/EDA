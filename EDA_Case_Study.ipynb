{
 "cells": [
  {
   "cell_type": "code",
   "execution_count": null,
   "metadata": {},
   "outputs": [],
   "source": []
  },
  {
   "cell_type": "code",
   "execution_count": 1,
   "metadata": {},
   "outputs": [],
   "source": [
    "import pandas as pd\n",
    "import numpy as np\n",
    "import matplotlib.pyplot as plt\n",
    "import seaborn as sns\n",
    "pd.set_option('display.max_columns' ,None)\n",
    "pd.set_option('display.max_rows',500)\n",
    "%matplotlib inline"
   ]
  },
  {
   "cell_type": "code",
   "execution_count": 2,
   "metadata": {},
   "outputs": [
    {
     "data": {
      "text/plain": [
       "(307511, 122)"
      ]
     },
     "execution_count": 2,
     "metadata": {},
     "output_type": "execute_result"
    }
   ],
   "source": [
    "app_data=pd.read_csv('application_data.csv')\n",
    "app_data.shape"
   ]
  },
  {
   "cell_type": "code",
   "execution_count": 3,
   "metadata": {},
   "outputs": [
    {
     "data": {
      "text/plain": [
       "SK_ID_CURR                       0.000000\n",
       "TARGET                           0.000000\n",
       "NAME_CONTRACT_TYPE               0.000000\n",
       "CODE_GENDER                      0.000000\n",
       "FLAG_OWN_CAR                     0.000000\n",
       "FLAG_OWN_REALTY                  0.000000\n",
       "CNT_CHILDREN                     0.000000\n",
       "AMT_INCOME_TOTAL                 0.000000\n",
       "AMT_CREDIT                       0.000000\n",
       "AMT_ANNUITY                      0.003902\n",
       "AMT_GOODS_PRICE                  0.090403\n",
       "NAME_TYPE_SUITE                  0.420148\n",
       "NAME_INCOME_TYPE                 0.000000\n",
       "NAME_EDUCATION_TYPE              0.000000\n",
       "NAME_FAMILY_STATUS               0.000000\n",
       "NAME_HOUSING_TYPE                0.000000\n",
       "REGION_POPULATION_RELATIVE       0.000000\n",
       "DAYS_BIRTH                       0.000000\n",
       "DAYS_EMPLOYED                    0.000000\n",
       "DAYS_REGISTRATION                0.000000\n",
       "DAYS_ID_PUBLISH                  0.000000\n",
       "OWN_CAR_AGE                     65.990810\n",
       "FLAG_MOBIL                       0.000000\n",
       "FLAG_EMP_PHONE                   0.000000\n",
       "FLAG_WORK_PHONE                  0.000000\n",
       "FLAG_CONT_MOBILE                 0.000000\n",
       "FLAG_PHONE                       0.000000\n",
       "FLAG_EMAIL                       0.000000\n",
       "OCCUPATION_TYPE                 31.345545\n",
       "CNT_FAM_MEMBERS                  0.000650\n",
       "REGION_RATING_CLIENT             0.000000\n",
       "REGION_RATING_CLIENT_W_CITY      0.000000\n",
       "WEEKDAY_APPR_PROCESS_START       0.000000\n",
       "HOUR_APPR_PROCESS_START          0.000000\n",
       "REG_REGION_NOT_LIVE_REGION       0.000000\n",
       "REG_REGION_NOT_WORK_REGION       0.000000\n",
       "LIVE_REGION_NOT_WORK_REGION      0.000000\n",
       "REG_CITY_NOT_LIVE_CITY           0.000000\n",
       "REG_CITY_NOT_WORK_CITY           0.000000\n",
       "LIVE_CITY_NOT_WORK_CITY          0.000000\n",
       "ORGANIZATION_TYPE                0.000000\n",
       "EXT_SOURCE_1                    56.381073\n",
       "EXT_SOURCE_2                     0.214626\n",
       "EXT_SOURCE_3                    19.825307\n",
       "APARTMENTS_AVG                  50.749729\n",
       "BASEMENTAREA_AVG                58.515956\n",
       "YEARS_BEGINEXPLUATATION_AVG     48.781019\n",
       "YEARS_BUILD_AVG                 66.497784\n",
       "COMMONAREA_AVG                  69.872297\n",
       "ELEVATORS_AVG                   53.295980\n",
       "ENTRANCES_AVG                   50.348768\n",
       "FLOORSMAX_AVG                   49.760822\n",
       "FLOORSMIN_AVG                   67.848630\n",
       "LANDAREA_AVG                    59.376738\n",
       "LIVINGAPARTMENTS_AVG            68.354953\n",
       "LIVINGAREA_AVG                  50.193326\n",
       "NONLIVINGAPARTMENTS_AVG         69.432963\n",
       "NONLIVINGAREA_AVG               55.179164\n",
       "APARTMENTS_MODE                 50.749729\n",
       "BASEMENTAREA_MODE               58.515956\n",
       "YEARS_BEGINEXPLUATATION_MODE    48.781019\n",
       "YEARS_BUILD_MODE                66.497784\n",
       "COMMONAREA_MODE                 69.872297\n",
       "ELEVATORS_MODE                  53.295980\n",
       "ENTRANCES_MODE                  50.348768\n",
       "FLOORSMAX_MODE                  49.760822\n",
       "FLOORSMIN_MODE                  67.848630\n",
       "LANDAREA_MODE                   59.376738\n",
       "LIVINGAPARTMENTS_MODE           68.354953\n",
       "LIVINGAREA_MODE                 50.193326\n",
       "NONLIVINGAPARTMENTS_MODE        69.432963\n",
       "NONLIVINGAREA_MODE              55.179164\n",
       "APARTMENTS_MEDI                 50.749729\n",
       "BASEMENTAREA_MEDI               58.515956\n",
       "YEARS_BEGINEXPLUATATION_MEDI    48.781019\n",
       "YEARS_BUILD_MEDI                66.497784\n",
       "COMMONAREA_MEDI                 69.872297\n",
       "ELEVATORS_MEDI                  53.295980\n",
       "ENTRANCES_MEDI                  50.348768\n",
       "FLOORSMAX_MEDI                  49.760822\n",
       "FLOORSMIN_MEDI                  67.848630\n",
       "LANDAREA_MEDI                   59.376738\n",
       "LIVINGAPARTMENTS_MEDI           68.354953\n",
       "LIVINGAREA_MEDI                 50.193326\n",
       "NONLIVINGAPARTMENTS_MEDI        69.432963\n",
       "NONLIVINGAREA_MEDI              55.179164\n",
       "FONDKAPREMONT_MODE              68.386172\n",
       "HOUSETYPE_MODE                  50.176091\n",
       "TOTALAREA_MODE                  48.268517\n",
       "WALLSMATERIAL_MODE              50.840783\n",
       "EMERGENCYSTATE_MODE             47.398304\n",
       "OBS_30_CNT_SOCIAL_CIRCLE         0.332021\n",
       "DEF_30_CNT_SOCIAL_CIRCLE         0.332021\n",
       "OBS_60_CNT_SOCIAL_CIRCLE         0.332021\n",
       "DEF_60_CNT_SOCIAL_CIRCLE         0.332021\n",
       "DAYS_LAST_PHONE_CHANGE           0.000325\n",
       "FLAG_DOCUMENT_2                  0.000000\n",
       "FLAG_DOCUMENT_3                  0.000000\n",
       "FLAG_DOCUMENT_4                  0.000000\n",
       "FLAG_DOCUMENT_5                  0.000000\n",
       "FLAG_DOCUMENT_6                  0.000000\n",
       "FLAG_DOCUMENT_7                  0.000000\n",
       "FLAG_DOCUMENT_8                  0.000000\n",
       "FLAG_DOCUMENT_9                  0.000000\n",
       "FLAG_DOCUMENT_10                 0.000000\n",
       "FLAG_DOCUMENT_11                 0.000000\n",
       "FLAG_DOCUMENT_12                 0.000000\n",
       "FLAG_DOCUMENT_13                 0.000000\n",
       "FLAG_DOCUMENT_14                 0.000000\n",
       "FLAG_DOCUMENT_15                 0.000000\n",
       "FLAG_DOCUMENT_16                 0.000000\n",
       "FLAG_DOCUMENT_17                 0.000000\n",
       "FLAG_DOCUMENT_18                 0.000000\n",
       "FLAG_DOCUMENT_19                 0.000000\n",
       "FLAG_DOCUMENT_20                 0.000000\n",
       "FLAG_DOCUMENT_21                 0.000000\n",
       "AMT_REQ_CREDIT_BUREAU_HOUR      13.501631\n",
       "AMT_REQ_CREDIT_BUREAU_DAY       13.501631\n",
       "AMT_REQ_CREDIT_BUREAU_WEEK      13.501631\n",
       "AMT_REQ_CREDIT_BUREAU_MON       13.501631\n",
       "AMT_REQ_CREDIT_BUREAU_QRT       13.501631\n",
       "AMT_REQ_CREDIT_BUREAU_YEAR      13.501631\n",
       "dtype: float64"
      ]
     },
     "execution_count": 3,
     "metadata": {},
     "output_type": "execute_result"
    }
   ],
   "source": [
    "app_data.isnull().sum()/len(app_data)*100"
   ]
  },
  {
   "cell_type": "code",
   "execution_count": 4,
   "metadata": {},
   "outputs": [],
   "source": [
    "app_data.dropna(thresh=app_data.shape[0]*0.45,how='all',axis=1,inplace=True)"
   ]
  },
  {
   "cell_type": "code",
   "execution_count": 5,
   "metadata": {},
   "outputs": [
    {
     "data": {
      "text/plain": [
       "(307511, 95)"
      ]
     },
     "execution_count": 5,
     "metadata": {},
     "output_type": "execute_result"
    }
   ],
   "source": [
    "app_data.shape"
   ]
  },
  {
   "cell_type": "code",
   "execution_count": 6,
   "metadata": {
    "scrolled": true
   },
   "outputs": [
    {
     "data": {
      "text/plain": [
       "SK_ID_CURR                        int64\n",
       "TARGET                            int64\n",
       "NAME_CONTRACT_TYPE               object\n",
       "CODE_GENDER                      object\n",
       "FLAG_OWN_CAR                     object\n",
       "FLAG_OWN_REALTY                  object\n",
       "CNT_CHILDREN                      int64\n",
       "AMT_INCOME_TOTAL                float64\n",
       "AMT_CREDIT                      float64\n",
       "AMT_ANNUITY                     float64\n",
       "AMT_GOODS_PRICE                 float64\n",
       "NAME_TYPE_SUITE                  object\n",
       "NAME_INCOME_TYPE                 object\n",
       "NAME_EDUCATION_TYPE              object\n",
       "NAME_FAMILY_STATUS               object\n",
       "NAME_HOUSING_TYPE                object\n",
       "REGION_POPULATION_RELATIVE      float64\n",
       "DAYS_BIRTH                        int64\n",
       "DAYS_EMPLOYED                     int64\n",
       "DAYS_REGISTRATION               float64\n",
       "DAYS_ID_PUBLISH                   int64\n",
       "FLAG_MOBIL                        int64\n",
       "FLAG_EMP_PHONE                    int64\n",
       "FLAG_WORK_PHONE                   int64\n",
       "FLAG_CONT_MOBILE                  int64\n",
       "FLAG_PHONE                        int64\n",
       "FLAG_EMAIL                        int64\n",
       "OCCUPATION_TYPE                  object\n",
       "CNT_FAM_MEMBERS                 float64\n",
       "REGION_RATING_CLIENT              int64\n",
       "REGION_RATING_CLIENT_W_CITY       int64\n",
       "WEEKDAY_APPR_PROCESS_START       object\n",
       "HOUR_APPR_PROCESS_START           int64\n",
       "REG_REGION_NOT_LIVE_REGION        int64\n",
       "REG_REGION_NOT_WORK_REGION        int64\n",
       "LIVE_REGION_NOT_WORK_REGION       int64\n",
       "REG_CITY_NOT_LIVE_CITY            int64\n",
       "REG_CITY_NOT_WORK_CITY            int64\n",
       "LIVE_CITY_NOT_WORK_CITY           int64\n",
       "ORGANIZATION_TYPE                object\n",
       "EXT_SOURCE_2                    float64\n",
       "EXT_SOURCE_3                    float64\n",
       "APARTMENTS_AVG                  float64\n",
       "YEARS_BEGINEXPLUATATION_AVG     float64\n",
       "ELEVATORS_AVG                   float64\n",
       "ENTRANCES_AVG                   float64\n",
       "FLOORSMAX_AVG                   float64\n",
       "LIVINGAREA_AVG                  float64\n",
       "APARTMENTS_MODE                 float64\n",
       "YEARS_BEGINEXPLUATATION_MODE    float64\n",
       "ELEVATORS_MODE                  float64\n",
       "ENTRANCES_MODE                  float64\n",
       "FLOORSMAX_MODE                  float64\n",
       "LIVINGAREA_MODE                 float64\n",
       "APARTMENTS_MEDI                 float64\n",
       "YEARS_BEGINEXPLUATATION_MEDI    float64\n",
       "ELEVATORS_MEDI                  float64\n",
       "ENTRANCES_MEDI                  float64\n",
       "FLOORSMAX_MEDI                  float64\n",
       "LIVINGAREA_MEDI                 float64\n",
       "HOUSETYPE_MODE                   object\n",
       "TOTALAREA_MODE                  float64\n",
       "WALLSMATERIAL_MODE               object\n",
       "EMERGENCYSTATE_MODE              object\n",
       "OBS_30_CNT_SOCIAL_CIRCLE        float64\n",
       "DEF_30_CNT_SOCIAL_CIRCLE        float64\n",
       "OBS_60_CNT_SOCIAL_CIRCLE        float64\n",
       "DEF_60_CNT_SOCIAL_CIRCLE        float64\n",
       "DAYS_LAST_PHONE_CHANGE          float64\n",
       "FLAG_DOCUMENT_2                   int64\n",
       "FLAG_DOCUMENT_3                   int64\n",
       "FLAG_DOCUMENT_4                   int64\n",
       "FLAG_DOCUMENT_5                   int64\n",
       "FLAG_DOCUMENT_6                   int64\n",
       "FLAG_DOCUMENT_7                   int64\n",
       "FLAG_DOCUMENT_8                   int64\n",
       "FLAG_DOCUMENT_9                   int64\n",
       "FLAG_DOCUMENT_10                  int64\n",
       "FLAG_DOCUMENT_11                  int64\n",
       "FLAG_DOCUMENT_12                  int64\n",
       "FLAG_DOCUMENT_13                  int64\n",
       "FLAG_DOCUMENT_14                  int64\n",
       "FLAG_DOCUMENT_15                  int64\n",
       "FLAG_DOCUMENT_16                  int64\n",
       "FLAG_DOCUMENT_17                  int64\n",
       "FLAG_DOCUMENT_18                  int64\n",
       "FLAG_DOCUMENT_19                  int64\n",
       "FLAG_DOCUMENT_20                  int64\n",
       "FLAG_DOCUMENT_21                  int64\n",
       "AMT_REQ_CREDIT_BUREAU_HOUR      float64\n",
       "AMT_REQ_CREDIT_BUREAU_DAY       float64\n",
       "AMT_REQ_CREDIT_BUREAU_WEEK      float64\n",
       "AMT_REQ_CREDIT_BUREAU_MON       float64\n",
       "AMT_REQ_CREDIT_BUREAU_QRT       float64\n",
       "AMT_REQ_CREDIT_BUREAU_YEAR      float64\n",
       "dtype: object"
      ]
     },
     "execution_count": 6,
     "metadata": {},
     "output_type": "execute_result"
    }
   ],
   "source": [
    "app_data.dtypes"
   ]
  },
  {
   "cell_type": "code",
   "execution_count": 7,
   "metadata": {},
   "outputs": [],
   "source": [
    "app_data_slice=app_data.loc[:,'SK_ID_CURR':'DAYS_REGISTRATION']\n",
    "app_data_slice['OCCUPATION_TYPE']=app_data['OCCUPATION_TYPE']\n",
    "app_data_slice['CNT_FAM_MEMBERS']=app_data['CNT_FAM_MEMBERS']\n",
    "app_data_slice['REGION_RATING_CLIENT_W_CITY']=app_data['REGION_RATING_CLIENT_W_CITY']\n",
    "app_data_slice['ORGANIZATION_TYPE']=app_data['ORGANIZATION_TYPE']\n",
    "app_data_slice['AMT_REQ_CREDIT_BUREAU_QRT'] = app_data['AMT_REQ_CREDIT_BUREAU_QRT']\n",
    "app_data_slice['AMT_REQ_CREDIT_BUREAU_YEAR']=app_data['AMT_REQ_CREDIT_BUREAU_YEAR']"
   ]
  },
  {
   "cell_type": "code",
   "execution_count": 8,
   "metadata": {},
   "outputs": [
    {
     "data": {
      "text/plain": [
       "(307511, 26)"
      ]
     },
     "execution_count": 8,
     "metadata": {},
     "output_type": "execute_result"
    }
   ],
   "source": [
    "app_data_slice.shape"
   ]
  },
  {
   "cell_type": "code",
   "execution_count": 9,
   "metadata": {},
   "outputs": [
    {
     "data": {
      "text/plain": [
       "SK_ID_CURR                       int64\n",
       "TARGET                           int64\n",
       "NAME_CONTRACT_TYPE              object\n",
       "CODE_GENDER                     object\n",
       "FLAG_OWN_CAR                    object\n",
       "FLAG_OWN_REALTY                 object\n",
       "CNT_CHILDREN                     int64\n",
       "AMT_INCOME_TOTAL               float64\n",
       "AMT_CREDIT                     float64\n",
       "AMT_ANNUITY                    float64\n",
       "AMT_GOODS_PRICE                float64\n",
       "NAME_TYPE_SUITE                 object\n",
       "NAME_INCOME_TYPE                object\n",
       "NAME_EDUCATION_TYPE             object\n",
       "NAME_FAMILY_STATUS              object\n",
       "NAME_HOUSING_TYPE               object\n",
       "REGION_POPULATION_RELATIVE     float64\n",
       "DAYS_BIRTH                       int64\n",
       "DAYS_EMPLOYED                    int64\n",
       "DAYS_REGISTRATION              float64\n",
       "OCCUPATION_TYPE                 object\n",
       "CNT_FAM_MEMBERS                float64\n",
       "REGION_RATING_CLIENT_W_CITY      int64\n",
       "ORGANIZATION_TYPE               object\n",
       "AMT_REQ_CREDIT_BUREAU_QRT      float64\n",
       "AMT_REQ_CREDIT_BUREAU_YEAR     float64\n",
       "dtype: object"
      ]
     },
     "execution_count": 9,
     "metadata": {},
     "output_type": "execute_result"
    }
   ],
   "source": [
    "app_data_slice.dtypes"
   ]
  },
  {
   "cell_type": "code",
   "execution_count": 10,
   "metadata": {},
   "outputs": [
    {
     "data": {
      "text/plain": [
       "SK_ID_CURR                      0.000000\n",
       "TARGET                          0.000000\n",
       "NAME_CONTRACT_TYPE              0.000000\n",
       "CODE_GENDER                     0.000000\n",
       "FLAG_OWN_CAR                    0.000000\n",
       "FLAG_OWN_REALTY                 0.000000\n",
       "CNT_CHILDREN                    0.000000\n",
       "AMT_INCOME_TOTAL                0.000000\n",
       "AMT_CREDIT                      0.000000\n",
       "AMT_ANNUITY                     0.003902\n",
       "AMT_GOODS_PRICE                 0.090403\n",
       "NAME_TYPE_SUITE                 0.420148\n",
       "NAME_INCOME_TYPE                0.000000\n",
       "NAME_EDUCATION_TYPE             0.000000\n",
       "NAME_FAMILY_STATUS              0.000000\n",
       "NAME_HOUSING_TYPE               0.000000\n",
       "REGION_POPULATION_RELATIVE      0.000000\n",
       "DAYS_BIRTH                      0.000000\n",
       "DAYS_EMPLOYED                   0.000000\n",
       "DAYS_REGISTRATION               0.000000\n",
       "OCCUPATION_TYPE                31.345545\n",
       "CNT_FAM_MEMBERS                 0.000650\n",
       "REGION_RATING_CLIENT_W_CITY     0.000000\n",
       "ORGANIZATION_TYPE               0.000000\n",
       "AMT_REQ_CREDIT_BUREAU_QRT      13.501631\n",
       "AMT_REQ_CREDIT_BUREAU_YEAR     13.501631\n",
       "dtype: float64"
      ]
     },
     "execution_count": 10,
     "metadata": {},
     "output_type": "execute_result"
    }
   ],
   "source": [
    "app_data_slice.isnull().sum()/len(app_data_slice)*100\n"
   ]
  },
  {
   "cell_type": "code",
   "execution_count": 11,
   "metadata": {},
   "outputs": [
    {
     "data": {
      "text/plain": [
       "<matplotlib.axes._subplots.AxesSubplot at 0xb571788>"
      ]
     },
     "execution_count": 11,
     "metadata": {},
     "output_type": "execute_result"
    },
    {
     "data": {
      "image/png": "[encoded data removed]",
      "text/plain": [
       "<Figure size 432x288 with 1 Axes>"
      ]
     },
     "metadata": {
      "needs_background": "light"
     },
     "output_type": "display_data"
    }
   ],
   "source": [
    "app_data_slice.AMT_REQ_CREDIT_BUREAU_YEAR.value_counts()\n",
    "\n",
    "sns.boxplot(app_data_slice.AMT_REQ_CREDIT_BUREAU_YEAR)\n",
    "#There are no outliers here  so we can impute NAN values with mean\n"
   ]
  },
  {
   "cell_type": "code",
   "execution_count": 12,
   "metadata": {},
   "outputs": [
    {
     "data": {
      "image/png": "[encoded data removed]",
      "text/plain": [
       "<Figure size 432x288 with 1 Axes>"
      ]
     },
     "metadata": {
      "needs_background": "light"
     },
     "output_type": "display_data"
    }
   ],
   "source": [
    "app_data_slice.AMT_REQ_CREDIT_BUREAU_QRT.value_counts()\n",
    "#There outliers here 19 and 261 so we can impute NAN values with median\n",
    "sns.boxplot(app_data_slice.AMT_REQ_CREDIT_BUREAU_QRT)\n",
    "plt.show()"
   ]
  },
  {
   "cell_type": "code",
   "execution_count": null,
   "metadata": {},
   "outputs": [],
   "source": [
    "print(app_data_slice.OCCUPATION_TYPE.value_counts())\n",
    "#We can impute missing values with mode i.e Laborer\n",
    "sns.barplot(app_data_slice.OCCUPATION_TYPE)\n",
    "plt.show()\n"
   ]
  },
  {
   "cell_type": "code",
   "execution_count": null,
   "metadata": {},
   "outputs": [],
   "source": [
    "print('hi')"
   ]
  },
  {
   "cell_type": "code",
   "execution_count": null,
   "metadata": {},
   "outputs": [],
   "source": []
  }
 ],
 "metadata": {
  "kernelspec": {
   "display_name": "Python 3",
   "language": "python",
   "name": "python3"
  },
  "language_info": {
   "codemirror_mode": {
    "name": "ipython",
    "version": 3
   },
   "file_extension": ".py",
   "mimetype": "text/x-python",
   "name": "python",
   "nbconvert_exporter": "python",
   "pygments_lexer": "ipython3",
   "version": "3.7.4"
  }
 },
 "nbformat": 4,
 "nbformat_minor": 2
}
